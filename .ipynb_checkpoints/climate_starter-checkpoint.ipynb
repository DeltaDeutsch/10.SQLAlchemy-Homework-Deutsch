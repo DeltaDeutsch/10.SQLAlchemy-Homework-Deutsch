{
 "cells": [
  {
   "cell_type": "code",
   "execution_count": 16,
   "metadata": {},
   "outputs": [],
   "source": [
    "%matplotlib inline\n",
    "from matplotlib import style\n",
    "style.use('fivethirtyeight')\n",
    "import matplotlib.pyplot as plt"
   ]
  },
  {
   "cell_type": "code",
   "execution_count": 17,
   "metadata": {},
   "outputs": [],
   "source": [
    "import numpy as np\n",
    "import pandas as pd\n",
    "import datetime as dt"
   ]
  },
  {
   "cell_type": "code",
   "execution_count": 18,
   "metadata": {},
   "outputs": [],
   "source": [
    "import os"
   ]
  },
  {
   "cell_type": "code",
   "execution_count": 19,
   "metadata": {},
   "outputs": [
    {
     "data": {
      "text/plain": [
       "'C:\\\\Users\\\\deuts\\\\anaconda3;C:\\\\Users\\\\deuts\\\\anaconda3\\\\Library\\\\mingw-w64\\\\bin;C:\\\\Users\\\\deuts\\\\anaconda3\\\\Library\\\\usr\\\\bin;C:\\\\Users\\\\deuts\\\\anaconda3\\\\Library\\\\bin;C:\\\\Users\\\\deuts\\\\anaconda3\\\\Scripts;C:\\\\Users\\\\deuts\\\\anaconda3\\\\bin;C:\\\\Users\\\\deuts\\\\anaconda3\\\\condabin;C:\\\\Users\\\\deuts\\\\anaconda3;C:\\\\Users\\\\deuts\\\\anaconda3\\\\Library\\\\mingw-w64\\\\bin;C:\\\\Users\\\\deuts\\\\anaconda3\\\\Library\\\\usr\\\\bin;C:\\\\Users\\\\deuts\\\\anaconda3\\\\Library\\\\bin;C:\\\\Users\\\\deuts\\\\anaconda3\\\\Scripts;C:\\\\Program Files (x86)\\\\Common Files\\\\Oracle\\\\Java\\\\javapath;C:\\\\Program Files (x86)\\\\Intel\\\\iCLS Client;C:\\\\Program Files\\\\Intel\\\\iCLS Client;C:\\\\WINDOWS\\\\system32;C:\\\\WINDOWS;C:\\\\WINDOWS\\\\System32\\\\Wbem;C:\\\\WINDOWS\\\\System32\\\\WindowsPowerShell\\\\v1.0;C:\\\\Program Files (x86)\\\\Intel\\\\Intel(R) Management Engine Components\\\\DAL;C:\\\\Program Files\\\\Intel\\\\Intel(R) Management Engine Components\\\\DAL;C:\\\\Program Files (x86)\\\\Intel\\\\Intel(R) Management Engine Components\\\\IPT;C:\\\\Program Files\\\\Intel\\\\Intel(R) Management Engine Components\\\\IPT;C:\\\\WINDOWS\\\\System32\\\\OpenSSH;C:\\\\Program Files\\\\Intel\\\\WiFi\\\\bin;C:\\\\Program Files\\\\Common Files\\\\Intel\\\\WirelessCommon;C:\\\\Program Files\\\\PuTTY;C:\\\\Program Files\\\\Git\\\\cmd;C:\\\\Users\\\\deuts\\\\AppData\\\\Local\\\\Microsoft\\\\WindowsApps;C:\\\\Users\\\\deuts\\\\AppData\\\\Local\\\\Programs\\\\Microsoft VS Code\\\\bin;C:\\\\Users\\\\deuts\\\\AppData\\\\Local\\\\GitHubDesktop\\\\bin'"
      ]
     },
     "execution_count": 19,
     "metadata": {},
     "output_type": "execute_result"
    }
   ],
   "source": [
    "os.environ[\"PATH\"]"
   ]
  },
  {
   "cell_type": "markdown",
   "metadata": {},
   "source": [
    "# Reflect Tables into SQLAlchemy ORM"
   ]
  },
  {
   "cell_type": "code",
   "execution_count": 20,
   "metadata": {},
   "outputs": [],
   "source": [
    "# Python SQL toolkit and Object Relational Mapper\n",
    "import sqlalchemy\n",
    "from sqlalchemy.ext.automap import automap_base\n",
    "from sqlalchemy.orm import Session\n",
    "from sqlalchemy import create_engine, func"
   ]
  },
  {
   "cell_type": "code",
   "execution_count": 21,
   "metadata": {},
   "outputs": [],
   "source": [
    "# create engine to hawaii.sqlite\n",
    "engine = create_engine(\"sqlite:///hawaii.sqlite\")"
   ]
  },
  {
   "cell_type": "code",
   "execution_count": 22,
   "metadata": {},
   "outputs": [],
   "source": [
    "# reflect an existing database into a new model\n",
    "\n",
    "Base = automap_base()\n",
    "# reflect the tables\n",
    "Base.prepare(engine, reflect=True)"
   ]
  },
  {
   "cell_type": "code",
   "execution_count": 23,
   "metadata": {},
   "outputs": [
    {
     "data": {
      "text/plain": [
       "['measurement', 'station']"
      ]
     },
     "execution_count": 23,
     "metadata": {},
     "output_type": "execute_result"
    }
   ],
   "source": [
    "# View all of the classes that automap found\n",
    "Base.classes.keys()"
   ]
  },
  {
   "cell_type": "code",
   "execution_count": 24,
   "metadata": {},
   "outputs": [],
   "source": [
    "# Save references to each table\n",
    "Measurement = Base.classes.measurement\n",
    "Station = Base.classes.station"
   ]
  },
  {
   "cell_type": "code",
   "execution_count": 25,
   "metadata": {},
   "outputs": [],
   "source": [
    "# Create our session (link) from Python to the DB\n",
    "session = Session(engine)"
   ]
  },
  {
   "cell_type": "markdown",
   "metadata": {},
   "source": [
    "# Exploratory Precipitation Analysis"
   ]
  },
  {
   "cell_type": "code",
   "execution_count": 26,
   "metadata": {},
   "outputs": [
    {
     "data": {
      "text/plain": [
       "'2010-01-01'"
      ]
     },
     "execution_count": 26,
     "metadata": {},
     "output_type": "execute_result"
    }
   ],
   "source": [
    "# Find the most recent date in the data set.\n",
    "\n",
    "date_start = session.query(Measurement.date).order_by(Measurement.date).first().date\n",
    "date_start"
   ]
  },
  {
   "cell_type": "code",
   "execution_count": 27,
   "metadata": {},
   "outputs": [
    {
     "data": {
      "text/plain": [
       "<function matplotlib.pyplot.show(close=None, block=None)>"
      ]
     },
     "execution_count": 27,
     "metadata": {},
     "output_type": "execute_result"
    },
    {
     "data": {
      "image/png": "[encoded data removed]",
      "text/plain": [
       "<Figure size 864x576 with 1 Axes>"
      ]
     },
     "metadata": {},
     "output_type": "display_data"
    }
   ],
   "source": [
    "# Design a query to retrieve the last 12 months of precipitation data and plot the results. \n",
    "# Starting from the most recent data point in the database. \n",
    "\n",
    "# Calculate the date one year from the last date in data set.\n",
    "# # Latest Date\n",
    "latest_date = session.query(Measurement.date).order_by(Measurement.date.desc()).first().date\n",
    "latest_date\n",
    "\n",
    "last_twelve_months = dt.datetime.strptime(latest_date, '%Y-%m-%d') - dt.timedelta(days=365)\n",
    "last_twelve_months\n",
    "\n",
    "# Perform a query to retrieve the data and precipitation scores\n",
    "p_results = session.query(Measurement.date, func.avg(Measurement.prcp)).\\\n",
    "                    filter(Measurement.date >= last_twelve_months).\\\n",
    "                    group_by(Measurement.date).all()\n",
    "p_results\n",
    "\n",
    "# Save the query results as a Pandas DataFrame and set the index to the date column\n",
    "precipitation_df = pd.DataFrame(p_results, columns=['Date', 'Precipitation'])\n",
    "precipitation_df.set_index('Date', inplace=True)\n",
    "precipitation_df.head()\n",
    "\n",
    "# Sort the dataframe by date\n",
    "\n",
    "\n",
    "# Use Pandas Plotting with Matplotlib to plot the data\n",
    "ax = precipitation_df.plot(kind='bar', width=3, figsize=(12,8))\n",
    "plt.locator_params(axis='x', nbins=6)\n",
    "ax.xaxis.set_major_formatter(plt.NullFormatter())\n",
    "ax.tick_params(axis='y', labelsize=16)\n",
    "ax.grid(True)\n",
    "plt.legend(bbox_to_anchor=(.3,1), fontsize=\"16\")\n",
    "plt.title(\"Precipitation Last 12 Months\", size=20)\n",
    "plt.ylabel(\"Precipitation (Inches)\", size=18)\n",
    "plt.xlabel(\"Date\", size=18)\n",
    "plt.savefig(\"../Precipitation.png\")\n",
    "plt.show\n",
    "\n"
   ]
  },
  {
   "cell_type": "code",
   "execution_count": 28,
   "metadata": {},
   "outputs": [
    {
     "data": {
      "text/html": [
       "<div>\n",
       "<style scoped>\n",
       "    .dataframe tbody tr th:only-of-type {\n",
       "        vertical-align: middle;\n",
       "    }\n",
       "\n",
       "    .dataframe tbody tr th {\n",
       "        vertical-align: top;\n",
       "    }\n",
       "\n",
       "    .dataframe thead th {\n",
       "        text-align: right;\n",
       "    }\n",
       "</style>\n",
       "<table border=\"1\" class=\"dataframe\">\n",
       "  <thead>\n",
       "    <tr style=\"text-align: right;\">\n",
       "      <th></th>\n",
       "      <th>Precipitation</th>\n",
       "    </tr>\n",
       "  </thead>\n",
       "  <tbody>\n",
       "    <tr>\n",
       "      <th>count</th>\n",
       "      <td>365.000000</td>\n",
       "    </tr>\n",
       "    <tr>\n",
       "      <th>mean</th>\n",
       "      <td>0.169987</td>\n",
       "    </tr>\n",
       "    <tr>\n",
       "      <th>std</th>\n",
       "      <td>0.295722</td>\n",
       "    </tr>\n",
       "    <tr>\n",
       "      <th>min</th>\n",
       "      <td>0.000000</td>\n",
       "    </tr>\n",
       "    <tr>\n",
       "      <th>25%</th>\n",
       "      <td>0.008571</td>\n",
       "    </tr>\n",
       "    <tr>\n",
       "      <th>50%</th>\n",
       "      <td>0.070000</td>\n",
       "    </tr>\n",
       "    <tr>\n",
       "      <th>75%</th>\n",
       "      <td>0.191667</td>\n",
       "    </tr>\n",
       "    <tr>\n",
       "      <th>max</th>\n",
       "      <td>2.380000</td>\n",
       "    </tr>\n",
       "  </tbody>\n",
       "</table>\n",
       "</div>"
      ],
      "text/plain": [
       "       Precipitation\n",
       "count     365.000000\n",
       "mean        0.169987\n",
       "std         0.295722\n",
       "min         0.000000\n",
       "25%         0.008571\n",
       "50%         0.070000\n",
       "75%         0.191667\n",
       "max         2.380000"
      ]
     },
     "execution_count": 28,
     "metadata": {},
     "output_type": "execute_result"
    }
   ],
   "source": [
    "# Use Pandas to calculate the summary statistics for the precipitation data\n",
    "precipitation_df.describe()"
   ]
  },
  {
   "cell_type": "markdown",
   "metadata": {},
   "source": [
    "# Exploratory Station Analysis"
   ]
  },
  {
   "cell_type": "code",
   "execution_count": 29,
   "metadata": {},
   "outputs": [
    {
     "data": {
      "text/plain": [
       "9"
      ]
     },
     "execution_count": 29,
     "metadata": {},
     "output_type": "execute_result"
    }
   ],
   "source": [
    "# Design a query to calculate the total number stations in the dataset\n",
    "session.query(Station.id).count()"
   ]
  },
  {
   "cell_type": "code",
   "execution_count": 35,
   "metadata": {},
   "outputs": [
    {
     "name": "stdout",
     "output_type": "stream",
     "text": [
      "0\n"
     ]
    },
    {
     "data": {
      "text/html": [
       "<div>\n",
       "<style scoped>\n",
       "    .dataframe tbody tr th:only-of-type {\n",
       "        vertical-align: middle;\n",
       "    }\n",
       "\n",
       "    .dataframe tbody tr th {\n",
       "        vertical-align: top;\n",
       "    }\n",
       "\n",
       "    .dataframe thead th {\n",
       "        text-align: right;\n",
       "    }\n",
       "</style>\n",
       "<table border=\"1\" class=\"dataframe\">\n",
       "  <thead>\n",
       "    <tr style=\"text-align: right;\">\n",
       "      <th></th>\n",
       "      <th>tobs</th>\n",
       "    </tr>\n",
       "    <tr>\n",
       "      <th>station</th>\n",
       "      <th></th>\n",
       "    </tr>\n",
       "  </thead>\n",
       "  <tbody>\n",
       "    <tr>\n",
       "      <th>USC00519281</th>\n",
       "      <td>77.0</td>\n",
       "    </tr>\n",
       "    <tr>\n",
       "      <th>USC00519281</th>\n",
       "      <td>80.0</td>\n",
       "    </tr>\n",
       "    <tr>\n",
       "      <th>USC00519281</th>\n",
       "      <td>80.0</td>\n",
       "    </tr>\n",
       "    <tr>\n",
       "      <th>USC00519281</th>\n",
       "      <td>75.0</td>\n",
       "    </tr>\n",
       "    <tr>\n",
       "      <th>USC00519281</th>\n",
       "      <td>73.0</td>\n",
       "    </tr>\n",
       "  </tbody>\n",
       "</table>\n",
       "</div>"
      ],
      "text/plain": [
       "             tobs\n",
       "station          \n",
       "USC00519281  77.0\n",
       "USC00519281  80.0\n",
       "USC00519281  80.0\n",
       "USC00519281  75.0\n",
       "USC00519281  73.0"
      ]
     },
     "execution_count": 35,
     "metadata": {},
     "output_type": "execute_result"
    }
   ],
   "source": [
    "# Design a query to find the most active stations (i.e. what stations have the most rows?)\n",
    "active = session.query(Measurement).filter(Measurement.station).count()\n",
    "print(active)\n",
    "\n",
    "t_results = session.query(Measurement.station, Measurement.tobs).\\\n",
    "                filter(Measurement.station == best_station).\\\n",
    "                filter(Measurement.date >= last_twelve_months).all()\n",
    "tobs_df = pd.DataFrame(t_results)\n",
    "tobs_df.set_index('station', inplace=True)\n",
    "tobs_df.head()"
   ]
  },
  {
   "cell_type": "code",
   "execution_count": 31,
   "metadata": {},
   "outputs": [
    {
     "data": {
      "text/plain": [
       "[('USC00519281', 2772),\n",
       " ('USC00519397', 2724),\n",
       " ('USC00513117', 2709),\n",
       " ('USC00519523', 2669),\n",
       " ('USC00516128', 2612),\n",
       " ('USC00514830', 2202),\n",
       " ('USC00511918', 1979),\n",
       " ('USC00517948', 1372),\n",
       " ('USC00518838', 511)]"
      ]
     },
     "execution_count": 31,
     "metadata": {},
     "output_type": "execute_result"
    }
   ],
   "source": [
    "# List the stations and the counts in descending order.\n",
    "s_results = session.query(Measurement.station, func.count(Measurement.station)).\\\n",
    "            group_by(Measurement.station).\\\n",
    "            order_by(func.count(Measurement.station).desc()).all()\n",
    "s_results"
   ]
  },
  {
   "cell_type": "code",
   "execution_count": 32,
   "metadata": {},
   "outputs": [
    {
     "data": {
      "text/plain": [
       "[(54.0, 71.66378066378067, 85.0)]"
      ]
     },
     "execution_count": 32,
     "metadata": {},
     "output_type": "execute_result"
    }
   ],
   "source": [
    "# Using the most active station id from the previous query, calculate the lowest, highest, and average temperature.\n",
    "best_station = s_results[0][0]\n",
    "session.query(func.min(Measurement.tobs), func.avg(Measurement.tobs), func.max(Measurement.tobs)).\\\n",
    "                filter(Measurement.station == best_station).all()"
   ]
  },
  {
   "cell_type": "code",
   "execution_count": 44,
   "metadata": {},
   "outputs": [
    {
     "data": {
      "text/plain": [
       "'2017-08-23'"
      ]
     },
     "execution_count": 44,
     "metadata": {},
     "output_type": "execute_result"
    }
   ],
   "source": [
    "# Latest Date\n",
    "latest_date = session.query(Measurement.date).order_by(Measurement.date.desc()).first().date\n",
    "latest_date"
   ]
  },
  {
   "cell_type": "code",
   "execution_count": 45,
   "metadata": {},
   "outputs": [
    {
     "data": {
      "text/plain": [
       "datetime.datetime(2016, 8, 23, 0, 0)"
      ]
     },
     "execution_count": 45,
     "metadata": {},
     "output_type": "execute_result"
    }
   ],
   "source": [
    "# Date 12 months from the latest date\n",
    "last_twelve_months = dt.datetime.strptime(latest_date, '%Y-%m-%d') - dt.timedelta(days=365)\n",
    "last_twelve_months"
   ]
  },
  {
   "cell_type": "code",
   "execution_count": 46,
   "metadata": {},
   "outputs": [
    {
     "data": {
      "text/plain": [
       "[('2016-08-24', 77.57142857142857),\n",
       " ('2016-08-25', 79.42857142857143),\n",
       " ('2016-08-26', 80.5),\n",
       " ('2016-08-27', 76.83333333333333),\n",
       " ('2016-08-28', 76.0),\n",
       " ('2016-08-29', 78.71428571428571),\n",
       " ('2016-08-30', 77.33333333333333),\n",
       " ('2016-08-31', 78.28571428571429),\n",
       " ('2016-09-01', 80.16666666666667),\n",
       " ('2016-09-02', 79.42857142857143),\n",
       " ('2016-09-03', 77.4),\n",
       " ('2016-09-04', 77.0),\n",
       " ('2016-09-05', 79.5),\n",
       " ('2016-09-06', 75.66666666666667),\n",
       " ('2016-09-07', 75.83333333333333),\n",
       " ('2016-09-08', 78.71428571428571),\n",
       " ('2016-09-09', 77.42857142857143),\n",
       " ('2016-09-10', 76.8),\n",
       " ('2016-09-11', 77.2),\n",
       " ('2016-09-12', 76.85714285714286),\n",
       " ('2016-09-13', 77.57142857142857),\n",
       " ('2016-09-14', 75.85714285714286),\n",
       " ('2016-09-15', 77.85714285714286),\n",
       " ('2016-09-16', 77.85714285714286),\n",
       " ('2016-09-17', 78.6),\n",
       " ('2016-09-18', 78.6),\n",
       " ('2016-09-19', 76.57142857142857),\n",
       " ('2016-09-20', 75.85714285714286),\n",
       " ('2016-09-21', 76.66666666666667),\n",
       " ('2016-09-22', 76.57142857142857),\n",
       " ('2016-09-23', 78.57142857142857),\n",
       " ('2016-09-24', 80.16666666666667),\n",
       " ('2016-09-25', 79.0),\n",
       " ('2016-09-26', 77.71428571428571),\n",
       " ('2016-09-27', 78.0),\n",
       " ('2016-09-28', 78.28571428571429),\n",
       " ('2016-09-29', 78.85714285714286),\n",
       " ('2016-09-30', 78.0),\n",
       " ('2016-10-01', 77.5),\n",
       " ('2016-10-02', 78.16666666666667),\n",
       " ('2016-10-03', 78.57142857142857),\n",
       " ('2016-10-04', 78.28571428571429),\n",
       " ('2016-10-05', 78.71428571428571),\n",
       " ('2016-10-06', 77.85714285714286),\n",
       " ('2016-10-07', 77.42857142857143),\n",
       " ('2016-10-08', 76.6),\n",
       " ('2016-10-09', 76.4),\n",
       " ('2016-10-10', 75.0),\n",
       " ('2016-10-11', 78.28571428571429),\n",
       " ('2016-10-12', 78.83333333333333),\n",
       " ('2016-10-13', 78.57142857142857),\n",
       " ('2016-10-14', 78.0),\n",
       " ('2016-10-15', 77.66666666666667),\n",
       " ('2016-10-16', 78.0),\n",
       " ('2016-10-17', 77.14285714285714),\n",
       " ('2016-10-18', 78.42857142857143),\n",
       " ('2016-10-19', 77.57142857142857),\n",
       " ('2016-10-20', 76.83333333333333),\n",
       " ('2016-10-21', 76.85714285714286),\n",
       " ('2016-10-22', 77.6),\n",
       " ('2016-10-23', 76.83333333333333),\n",
       " ('2016-10-24', 75.28571428571429),\n",
       " ('2016-10-25', 77.0),\n",
       " ('2016-10-26', 75.16666666666667),\n",
       " ('2016-10-27', 76.0),\n",
       " ('2016-10-28', 75.57142857142857),\n",
       " ('2016-10-29', 76.0),\n",
       " ('2016-10-30', 77.16666666666667),\n",
       " ('2016-10-31', 75.42857142857143),\n",
       " ('2016-11-01', 76.16666666666667),\n",
       " ('2016-11-02', 76.33333333333333),\n",
       " ('2016-11-03', 75.66666666666667),\n",
       " ('2016-11-04', 76.0),\n",
       " ('2016-11-05', 74.5),\n",
       " ('2016-11-06', 75.83333333333333),\n",
       " ('2016-11-07', 71.0),\n",
       " ('2016-11-08', 72.16666666666667),\n",
       " ('2016-11-09', 72.14285714285714),\n",
       " ('2016-11-10', 70.83333333333333),\n",
       " ('2016-11-11', 72.83333333333333),\n",
       " ('2016-11-12', 73.83333333333333),\n",
       " ('2016-11-13', 75.0),\n",
       " ('2016-11-14', 77.0),\n",
       " ('2016-11-15', 76.28571428571429),\n",
       " ('2016-11-16', 76.0),\n",
       " ('2016-11-17', 76.28571428571429),\n",
       " ('2016-11-18', 76.4),\n",
       " ('2016-11-19', 74.25),\n",
       " ('2016-11-20', 76.0),\n",
       " ('2016-11-21', 73.83333333333333),\n",
       " ('2016-11-22', 75.28571428571429),\n",
       " ('2016-11-23', 73.66666666666667),\n",
       " ('2016-11-24', 73.6),\n",
       " ('2016-11-25', 74.0),\n",
       " ('2016-11-26', 75.0),\n",
       " ('2016-11-27', 74.5),\n",
       " ('2016-11-28', 75.0),\n",
       " ('2016-11-29', 72.42857142857143),\n",
       " ('2016-11-30', 74.42857142857143),\n",
       " ('2016-12-01', 73.71428571428571),\n",
       " ('2016-12-02', 72.28571428571429),\n",
       " ('2016-12-03', 71.5),\n",
       " ('2016-12-04', 73.0),\n",
       " ('2016-12-05', 69.14285714285714),\n",
       " ('2016-12-06', 69.16666666666667),\n",
       " ('2016-12-07', 71.14285714285714),\n",
       " ('2016-12-08', 72.0),\n",
       " ('2016-12-09', 69.66666666666667),\n",
       " ('2016-12-10', 71.0),\n",
       " ('2016-12-11', 71.6),\n",
       " ('2016-12-12', 68.14285714285714),\n",
       " ('2016-12-13', 68.42857142857143),\n",
       " ('2016-12-14', 69.71428571428571),\n",
       " ('2016-12-15', 68.42857142857143),\n",
       " ('2016-12-16', 65.42857142857143),\n",
       " ('2016-12-17', 72.6),\n",
       " ('2016-12-18', 71.0),\n",
       " ('2016-12-19', 72.28571428571429),\n",
       " ('2016-12-20', 75.57142857142857),\n",
       " ('2016-12-21', 73.71428571428571),\n",
       " ('2016-12-22', 71.0),\n",
       " ('2016-12-23', 70.42857142857143),\n",
       " ('2016-12-24', 73.66666666666667),\n",
       " ('2016-12-25', 73.8),\n",
       " ('2016-12-26', 73.33333333333333),\n",
       " ('2016-12-27', 73.0),\n",
       " ('2016-12-28', 71.57142857142857),\n",
       " ('2016-12-29', 72.71428571428571),\n",
       " ('2016-12-30', 69.0),\n",
       " ('2016-12-31', 68.2),\n",
       " ('2017-01-01', 69.33333333333333),\n",
       " ('2017-01-02', 69.2),\n",
       " ('2017-01-03', 67.66666666666667),\n",
       " ('2017-01-04', 67.16666666666667),\n",
       " ('2017-01-05', 67.5),\n",
       " ('2017-01-06', 67.66666666666667),\n",
       " ('2017-01-07', 70.16666666666667),\n",
       " ('2017-01-08', 67.66666666666667),\n",
       " ('2017-01-09', 67.71428571428571),\n",
       " ('2017-01-10', 66.71428571428571),\n",
       " ('2017-01-11', 69.33333333333333),\n",
       " ('2017-01-12', 69.16666666666667),\n",
       " ('2017-01-13', 69.33333333333333),\n",
       " ('2017-01-14', 71.0),\n",
       " ('2017-01-15', 69.8),\n",
       " ('2017-01-16', 72.33333333333333),\n",
       " ('2017-01-17', 70.5),\n",
       " ('2017-01-18', 73.28571428571429),\n",
       " ('2017-01-19', 72.85714285714286),\n",
       " ('2017-01-20', 71.0),\n",
       " ('2017-01-21', 71.5),\n",
       " ('2017-01-22', 71.2),\n",
       " ('2017-01-23', 73.0),\n",
       " ('2017-01-24', 70.33333333333333),\n",
       " ('2017-01-25', 71.0),\n",
       " ('2017-01-26', 71.14285714285714),\n",
       " ('2017-01-27', 68.0),\n",
       " ('2017-01-28', 68.0),\n",
       " ('2017-01-29', 69.4),\n",
       " ('2017-01-30', 68.42857142857143),\n",
       " ('2017-01-31', 68.28571428571429),\n",
       " ('2017-02-01', 68.0),\n",
       " ('2017-02-02', 64.14285714285714),\n",
       " ('2017-02-03', 66.0),\n",
       " ('2017-02-04', 70.2),\n",
       " ('2017-02-05', 74.5),\n",
       " ('2017-02-06', 75.28571428571429),\n",
       " ('2017-02-07', 68.28571428571429),\n",
       " ('2017-02-08', 65.85714285714286),\n",
       " ('2017-02-09', 63.285714285714285),\n",
       " ('2017-02-10', 68.28571428571429),\n",
       " ('2017-02-11', 67.83333333333333),\n",
       " ('2017-02-12', 69.83333333333333),\n",
       " ('2017-02-13', 74.14285714285714),\n",
       " ('2017-02-14', 76.66666666666667),\n",
       " ('2017-02-15', 74.57142857142857),\n",
       " ('2017-02-16', 71.0),\n",
       " ('2017-02-17', 71.5),\n",
       " ('2017-02-18', 70.4),\n",
       " ('2017-02-19', 69.25),\n",
       " ('2017-02-20', 70.66666666666667),\n",
       " ('2017-02-21', 69.66666666666667),\n",
       " ('2017-02-22', 71.14285714285714),\n",
       " ('2017-02-23', 72.42857142857143),\n",
       " ('2017-02-24', 69.42857142857143),\n",
       " ('2017-02-25', 63.5),\n",
       " ('2017-02-26', 66.83333333333333),\n",
       " ('2017-02-27', 69.85714285714286),\n",
       " ('2017-02-28', 72.28571428571429),\n",
       " ('2017-03-01', 69.0),\n",
       " ('2017-03-02', 73.16666666666667),\n",
       " ('2017-03-03', 72.71428571428571),\n",
       " ('2017-03-04', 74.8),\n",
       " ('2017-03-05', 70.5),\n",
       " ('2017-03-06', 69.71428571428571),\n",
       " ('2017-03-07', 68.0),\n",
       " ('2017-03-08', 69.0),\n",
       " ('2017-03-09', 69.28571428571429),\n",
       " ('2017-03-10', 68.42857142857143),\n",
       " ('2017-03-11', 76.6),\n",
       " ('2017-03-12', 73.4),\n",
       " ('2017-03-13', 70.14285714285714),\n",
       " ('2017-03-14', 72.42857142857143),\n",
       " ('2017-03-15', 72.16666666666667),\n",
       " ('2017-03-16', 71.28571428571429),\n",
       " ('2017-03-17', 70.5),\n",
       " ('2017-03-18', 70.16666666666667),\n",
       " ('2017-03-19', 73.4),\n",
       " ('2017-03-20', 73.66666666666667),\n",
       " ('2017-03-21', 73.83333333333333),\n",
       " ('2017-03-22', 74.0),\n",
       " ('2017-03-23', 73.16666666666667),\n",
       " ('2017-03-24', 72.83333333333333),\n",
       " ('2017-03-25', 74.2),\n",
       " ('2017-03-26', 76.0),\n",
       " ('2017-03-27', 75.5),\n",
       " ('2017-03-28', 74.57142857142857),\n",
       " ('2017-03-29', 73.0),\n",
       " ('2017-03-30', 76.16666666666667),\n",
       " ('2017-03-31', 75.28571428571429),\n",
       " ('2017-04-01', 75.5),\n",
       " ('2017-04-02', 75.33333333333333),\n",
       " ('2017-04-03', 74.42857142857143),\n",
       " ('2017-04-04', 74.14285714285714),\n",
       " ('2017-04-05', 73.85714285714286),\n",
       " ('2017-04-06', 73.42857142857143),\n",
       " ('2017-04-07', 75.83333333333333),\n",
       " ('2017-04-08', 75.75),\n",
       " ('2017-04-09', 73.33333333333333),\n",
       " ('2017-04-10', 73.42857142857143),\n",
       " ('2017-04-11', 75.71428571428571),\n",
       " ('2017-04-12', 74.57142857142857),\n",
       " ('2017-04-13', 74.57142857142857),\n",
       " ('2017-04-14', 73.83333333333333),\n",
       " ('2017-04-15', 74.0),\n",
       " ('2017-04-16', 71.8),\n",
       " ('2017-04-17', 70.14285714285714),\n",
       " ('2017-04-18', 73.0),\n",
       " ('2017-04-19', 73.57142857142857),\n",
       " ('2017-04-20', 74.71428571428571),\n",
       " ('2017-04-21', 70.85714285714286),\n",
       " ('2017-04-22', 73.8),\n",
       " ('2017-04-23', 74.5),\n",
       " ('2017-04-24', 76.14285714285714),\n",
       " ('2017-04-25', 75.57142857142857),\n",
       " ('2017-04-26', 77.5),\n",
       " ('2017-04-27', 75.57142857142857),\n",
       " ('2017-04-28', 73.28571428571429),\n",
       " ('2017-04-29', 69.83333333333333),\n",
       " ('2017-04-30', 61.5),\n",
       " ('2017-05-01', 72.0),\n",
       " ('2017-05-02', 76.5),\n",
       " ('2017-05-03', 75.6),\n",
       " ('2017-05-04', 76.33333333333333),\n",
       " ('2017-05-05', 76.33333333333333),\n",
       " ('2017-05-06', 77.5),\n",
       " ('2017-05-07', 75.4),\n",
       " ('2017-05-08', 72.83333333333333),\n",
       " ('2017-05-09', 73.4),\n",
       " ('2017-05-10', 75.16666666666667),\n",
       " ('2017-05-11', 75.6),\n",
       " ('2017-05-12', 75.5),\n",
       " ('2017-05-13', 75.4),\n",
       " ('2017-05-14', 75.4),\n",
       " ('2017-05-15', 75.5),\n",
       " ('2017-05-16', 75.16666666666667),\n",
       " ('2017-05-17', 75.5),\n",
       " ('2017-05-18', 71.66666666666667),\n",
       " ('2017-05-19', 73.25),\n",
       " ('2017-05-20', 75.66666666666667),\n",
       " ('2017-05-21', 74.2),\n",
       " ('2017-05-22', 75.16666666666667),\n",
       " ('2017-05-23', 75.66666666666667),\n",
       " ('2017-05-24', 74.66666666666667),\n",
       " ('2017-05-25', 74.83333333333333),\n",
       " ('2017-05-26', 75.0),\n",
       " ('2017-05-27', 74.5),\n",
       " ('2017-05-28', 76.5),\n",
       " ('2017-05-29', 75.8),\n",
       " ('2017-05-30', 75.5),\n",
       " ('2017-05-31', 78.0),\n",
       " ('2017-06-01', 78.16666666666667),\n",
       " ('2017-06-02', 78.16666666666667),\n",
       " ('2017-06-03', 77.33333333333333),\n",
       " ('2017-06-04', 78.5),\n",
       " ('2017-06-05', 77.42857142857143),\n",
       " ('2017-06-06', 77.28571428571429),\n",
       " ('2017-06-07', 78.14285714285714),\n",
       " ('2017-06-08', 77.14285714285714),\n",
       " ('2017-06-09', 78.16666666666667),\n",
       " ('2017-06-10', 75.16666666666667),\n",
       " ('2017-06-11', 77.0),\n",
       " ('2017-06-12', 77.66666666666667),\n",
       " ('2017-06-13', 76.85714285714286),\n",
       " ('2017-06-14', 77.28571428571429),\n",
       " ('2017-06-15', 77.14285714285714),\n",
       " ('2017-06-16', 77.14285714285714),\n",
       " ('2017-06-17', 77.16666666666667),\n",
       " ('2017-06-18', 76.0),\n",
       " ('2017-06-19', 77.0),\n",
       " ('2017-06-20', 75.83333333333333),\n",
       " ('2017-06-21', 77.66666666666667),\n",
       " ('2017-06-22', 77.66666666666667),\n",
       " ('2017-06-23', 75.42857142857143),\n",
       " ('2017-06-24', 77.2),\n",
       " ('2017-06-25', 76.6),\n",
       " ('2017-06-26', 79.0),\n",
       " ('2017-06-27', 78.0),\n",
       " ('2017-06-28', 77.66666666666667),\n",
       " ('2017-06-29', 77.14285714285714),\n",
       " ('2017-06-30', 75.71428571428571),\n",
       " ('2017-07-01', 77.25),\n",
       " ('2017-07-02', 79.2),\n",
       " ('2017-07-03', 79.57142857142857),\n",
       " ('2017-07-04', 78.0),\n",
       " ('2017-07-05', 78.57142857142857),\n",
       " ('2017-07-06', 77.16666666666667),\n",
       " ('2017-07-07', 77.14285714285714),\n",
       " ('2017-07-08', 77.16666666666667),\n",
       " ('2017-07-09', 79.33333333333333),\n",
       " ('2017-07-10', 77.85714285714286),\n",
       " ('2017-07-11', 77.0),\n",
       " ('2017-07-12', 78.28571428571429),\n",
       " ('2017-07-13', 78.14285714285714),\n",
       " ('2017-07-14', 78.83333333333333),\n",
       " ('2017-07-15', 80.16666666666667),\n",
       " ('2017-07-16', 78.33333333333333),\n",
       " ('2017-07-17', 77.83333333333333),\n",
       " ('2017-07-18', 79.14285714285714),\n",
       " ('2017-07-19', 78.16666666666667),\n",
       " ('2017-07-20', 78.42857142857143),\n",
       " ('2017-07-21', 78.14285714285714),\n",
       " ('2017-07-22', 77.66666666666667),\n",
       " ('2017-07-23', 79.6),\n",
       " ('2017-07-24', 77.66666666666667),\n",
       " ('2017-07-25', 79.28571428571429),\n",
       " ('2017-07-26', 78.42857142857143),\n",
       " ('2017-07-27', 78.0),\n",
       " ('2017-07-28', 79.14285714285714),\n",
       " ('2017-07-29', 80.5),\n",
       " ('2017-07-30', 80.6),\n",
       " ('2017-07-31', 78.71428571428571),\n",
       " ('2017-08-01', 74.5),\n",
       " ('2017-08-02', 79.0),\n",
       " ('2017-08-03', 79.0),\n",
       " ('2017-08-04', 80.0),\n",
       " ('2017-08-05', 80.0),\n",
       " ('2017-08-06', 81.4),\n",
       " ('2017-08-07', 80.5),\n",
       " ('2017-08-08', 78.5),\n",
       " ('2017-08-09', 77.33333333333333),\n",
       " ('2017-08-10', 79.25),\n",
       " ('2017-08-11', 78.0),\n",
       " ('2017-08-12', 79.0),\n",
       " ('2017-08-13', 80.6),\n",
       " ('2017-08-14', 78.2),\n",
       " ('2017-08-15', 77.2),\n",
       " ('2017-08-16', 77.0),\n",
       " ('2017-08-17', 77.25),\n",
       " ('2017-08-18', 78.0),\n",
       " ('2017-08-19', 78.75),\n",
       " ('2017-08-20', 79.66666666666667),\n",
       " ('2017-08-21', 79.5),\n",
       " ('2017-08-22', 80.0),\n",
       " ('2017-08-23', 80.25)]"
      ]
     },
     "execution_count": 46,
     "metadata": {},
     "output_type": "execute_result"
    }
   ],
   "source": [
    "# Retrieve the last 12 months of temperature observation data\n",
    "t_results = session.query(Measurement.date, func.avg(Measurement.tobs)).\\\n",
    "                    filter(Measurement.date >= last_twelve_months).\\\n",
    "                    group_by(Measurement.date).all()\n",
    "t_results"
   ]
  },
  {
   "cell_type": "code",
   "execution_count": 47,
   "metadata": {},
   "outputs": [
    {
     "data": {
      "text/html": [
       "<div>\n",
       "<style scoped>\n",
       "    .dataframe tbody tr th:only-of-type {\n",
       "        vertical-align: middle;\n",
       "    }\n",
       "\n",
       "    .dataframe tbody tr th {\n",
       "        vertical-align: top;\n",
       "    }\n",
       "\n",
       "    .dataframe thead th {\n",
       "        text-align: right;\n",
       "    }\n",
       "</style>\n",
       "<table border=\"1\" class=\"dataframe\">\n",
       "  <thead>\n",
       "    <tr style=\"text-align: right;\">\n",
       "      <th></th>\n",
       "      <th>Temperature</th>\n",
       "    </tr>\n",
       "    <tr>\n",
       "      <th>Date</th>\n",
       "      <th></th>\n",
       "    </tr>\n",
       "  </thead>\n",
       "  <tbody>\n",
       "    <tr>\n",
       "      <th>2016-08-24</th>\n",
       "      <td>77.571429</td>\n",
       "    </tr>\n",
       "    <tr>\n",
       "      <th>2016-08-25</th>\n",
       "      <td>79.428571</td>\n",
       "    </tr>\n",
       "    <tr>\n",
       "      <th>2016-08-26</th>\n",
       "      <td>80.500000</td>\n",
       "    </tr>\n",
       "    <tr>\n",
       "      <th>2016-08-27</th>\n",
       "      <td>76.833333</td>\n",
       "    </tr>\n",
       "    <tr>\n",
       "      <th>2016-08-28</th>\n",
       "      <td>76.000000</td>\n",
       "    </tr>\n",
       "  </tbody>\n",
       "</table>\n",
       "</div>"
      ],
      "text/plain": [
       "            Temperature\n",
       "Date                   \n",
       "2016-08-24    77.571429\n",
       "2016-08-25    79.428571\n",
       "2016-08-26    80.500000\n",
       "2016-08-27    76.833333\n",
       "2016-08-28    76.000000"
      ]
     },
     "execution_count": 47,
     "metadata": {},
     "output_type": "execute_result"
    }
   ],
   "source": [
    "# Put data into dataframe\n",
    "temperature_df = pd.DataFrame(t_results, columns=['Date', 'Temperature'])\n",
    "temperature_df.set_index('Date', inplace=True)\n",
    "temperature_df.head()"
   ]
  },
  {
   "cell_type": "code",
   "execution_count": 48,
   "metadata": {},
   "outputs": [
    {
     "data": {
      "text/plain": [
       "<function matplotlib.pyplot.show(close=None, block=None)>"
      ]
     },
     "execution_count": 48,
     "metadata": {},
     "output_type": "execute_result"
    },
    {
     "data": {
      "image/png": "[encoded data removed]",
      "text/plain": [
       "<Figure size 864x576 with 1 Axes>"
      ]
     },
     "metadata": {},
     "output_type": "display_data"
    }
   ],
   "source": [
    "# Using the most active station id\n",
    "# Query the last 12 months of temperature observation data for this station and plot the results as a histogram\n",
    "ax = temperature_df.plot(kind='bar', width=3, figsize=(12,8))\n",
    "plt.locator_params(axis='x', nbins=6)\n",
    "ax.xaxis.set_major_formatter(plt.NullFormatter())\n",
    "ax.tick_params(axis='y', labelsize=16)\n",
    "ax.grid(True)\n",
    "plt.legend(bbox_to_anchor=(.3,1), fontsize=\"16\")\n",
    "plt.title(\"Temperature Last 12 Months\", size=20)\n",
    "plt.ylabel(\"Temperature (Degrees)\", size=18)\n",
    "plt.xlabel(\"Date\", size=18)\n",
    "plt.savefig(\"../Temperature.png\")\n",
    "plt.show"
   ]
  },
  {
   "cell_type": "markdown",
   "metadata": {},
   "source": [
    "# Close session"
   ]
  },
  {
   "cell_type": "code",
   "execution_count": 49,
   "metadata": {},
   "outputs": [],
   "source": [
    "# Close Session\n",
    "session.close()"
   ]
  },
  {
   "cell_type": "code",
   "execution_count": null,
   "metadata": {},
   "outputs": [],
   "source": []
  }
 ],
 "metadata": {
  "anaconda-cloud": {},
  "kernel_info": {
   "name": "python3"
  },
  "kernelspec": {
   "display_name": "Python 3",
   "language": "python",
   "name": "python3"
  },
  "language_info": {
   "codemirror_mode": {
    "name": "ipython",
    "version": 3
   },
   "file_extension": ".py",
   "mimetype": "text/x-python",
   "name": "python",
   "nbconvert_exporter": "python",
   "pygments_lexer": "ipython3",
   "version": "3.8.5"
  },
  "nteract": {
   "version": "0.12.3"
  },
  "varInspector": {
   "cols": {
    "lenName": 16,
    "lenType": 16,
    "lenVar": 40
   },
   "kernels_config": {
    "python": {
     "delete_cmd_postfix": "",
     "delete_cmd_prefix": "del ",
     "library": "var_list.py",
     "varRefreshCmd": "print(var_dic_list())"
    },
    "r": {
     "delete_cmd_postfix": ") ",
     "delete_cmd_prefix": "rm(",
     "library": "var_list.r",
     "varRefreshCmd": "cat(var_dic_list()) "
    }
   },
   "types_to_exclude": [
    "module",
    "function",
    "builtin_function_or_method",
    "instance",
    "_Feature"
   ],
   "window_display": false
  }
 },
 "nbformat": 4,
 "nbformat_minor": 4
}
